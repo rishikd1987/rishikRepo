{
  "nbformat": 4,
  "nbformat_minor": 0,
  "metadata": {
    "colab": {
      "name": "EPAi4_python_basics.ipynb",
      "provenance": [],
      "authorship_tag": "ABX9TyPS3cmJDO3KAc7s3y+2ebyj",
      "include_colab_link": true
    },
    "kernelspec": {
      "name": "python3",
      "display_name": "Python 3"
    },
    "language_info": {
      "name": "python"
    }
  },
  "cells": [
    {
      "cell_type": "markdown",
      "metadata": {
        "id": "view-in-github",
        "colab_type": "text"
      },
      "source": [
        "<a href=\"https://colab.research.google.com/github/rishikd1987/rishikRepo/blob/main/EPAi4_python_basics.ipynb\" target=\"_parent\"><img src=\"https://colab.research.google.com/assets/colab-badge.svg\" alt=\"Open In Colab\"/></a>"
      ]
    },
    {
      "cell_type": "code",
      "metadata": {
        "colab": {
          "base_uri": "https://localhost:8080/"
        },
        "id": "2ByDTjMyHIZX",
        "outputId": "6f6232c5-2d09-469a-d90d-e7a4c19c71d1"
      },
      "source": [
        "for x in \"rishik\":\n",
        "  print(x)"
      ],
      "execution_count": null,
      "outputs": [
        {
          "output_type": "stream",
          "name": "stdout",
          "text": [
            "r\n",
            "i\n",
            "s\n",
            "h\n",
            "i\n",
            "k\n"
          ]
        }
      ]
    },
    {
      "cell_type": "code",
      "metadata": {
        "colab": {
          "base_uri": "https://localhost:8080/"
        },
        "id": "V0BVWzo69c5P",
        "outputId": "5f842bb8-cc40-4806-9dcb-e096afbe34e6"
      },
      "source": [
        "a = 5\n",
        "\n",
        "while True:\n",
        "  print(a)\n",
        "  a = a - 1\n",
        "  if a==0:\n",
        "    break"
      ],
      "execution_count": null,
      "outputs": [
        {
          "output_type": "stream",
          "name": "stdout",
          "text": [
            "5\n",
            "4\n",
            "3\n",
            "2\n",
            "1\n"
          ]
        }
      ]
    },
    {
      "cell_type": "code",
      "metadata": {
        "colab": {
          "base_uri": "https://localhost:8080/"
        },
        "id": "J3_-hmE3_qT_",
        "outputId": "9a2e44cc-e843-4369-8479-ac3c0ed1bacf"
      },
      "source": [
        "a = 10\n",
        "b = 5\n",
        "\n",
        "while b >= -3:\n",
        "  b -= 1\n",
        "  try:\n",
        "    print(a,b)\n",
        "    c = a/b\n",
        "    print(c)\n",
        "    \n",
        "  except Exception as e:\n",
        "    print(e)\n",
        "    continue\n",
        "  finally:\n",
        "    print('Finally!')"
      ],
      "execution_count": null,
      "outputs": [
        {
          "output_type": "stream",
          "name": "stdout",
          "text": [
            "10 4\n",
            "2.5\n",
            "Finally!\n",
            "10 3\n",
            "3.3333333333333335\n",
            "Finally!\n",
            "10 2\n",
            "5.0\n",
            "Finally!\n",
            "10 1\n",
            "10.0\n",
            "Finally!\n",
            "10 0\n",
            "division by zero\n",
            "Finally!\n",
            "10 -1\n",
            "-10.0\n",
            "Finally!\n",
            "10 -2\n",
            "-5.0\n",
            "Finally!\n",
            "10 -3\n",
            "-3.3333333333333335\n",
            "Finally!\n",
            "10 -4\n",
            "-2.5\n",
            "Finally!\n"
          ]
        }
      ]
    },
    {
      "cell_type": "code",
      "metadata": {
        "id": "zfzdYF_bg87H"
      },
      "source": [
        "class Rectangle:\n",
        "  def __init__(self,height,width):\n",
        "    self._width = None\n",
        "    self._height = None\n",
        "    self.height = height\n",
        "    self.width = width\n",
        "\n",
        "  \n",
        "  @property\n",
        "  def height(self):\n",
        "    return self._height\n",
        "\n",
        "  @height.setter\n",
        "  def height(self,height):\n",
        "    if height<5:\n",
        "      raise ValueError(f\"height less than 5\")\n",
        "    self._height = height\n"
      ],
      "execution_count": null,
      "outputs": []
    },
    {
      "cell_type": "code",
      "metadata": {
        "id": "JDSEseUoucD9"
      },
      "source": [
        "c = Rectangle(11,9)"
      ],
      "execution_count": null,
      "outputs": []
    },
    {
      "cell_type": "code",
      "metadata": {
        "colab": {
          "base_uri": "https://localhost:8080/"
        },
        "id": "gb1fFAvhug9j",
        "outputId": "775ddd7a-bd84-4a7f-dd2a-28ca284abd62"
      },
      "source": [
        "c._height\n"
      ],
      "execution_count": null,
      "outputs": [
        {
          "output_type": "execute_result",
          "data": {
            "text/plain": [
              "11"
            ]
          },
          "metadata": {},
          "execution_count": 14
        }
      ]
    },
    {
      "cell_type": "code",
      "metadata": {
        "id": "SbI_l1d1HWs_"
      },
      "source": [
        "class Rectangle:\n",
        "  def __init__(self,width,height):\n",
        "    self.width = width\n",
        "    self.height = height\n",
        "  def area(self):\n",
        "    return self.width * self.height"
      ],
      "execution_count": null,
      "outputs": []
    },
    {
      "cell_type": "code",
      "metadata": {
        "id": "HXBFNvbtH4M6"
      },
      "source": [
        "r1 = Rectangle(10,20)\n",
        "\n",
        "r2 = Rectangle(3,5)\n"
      ],
      "execution_count": null,
      "outputs": []
    },
    {
      "cell_type": "code",
      "metadata": {
        "colab": {
          "base_uri": "https://localhost:8080/"
        },
        "id": "9vJejPETIBdo",
        "outputId": "ed67d35d-626f-4f32-e993-69a32cdabbfa"
      },
      "source": [
        "r1.area()"
      ],
      "execution_count": null,
      "outputs": [
        {
          "output_type": "execute_result",
          "data": {
            "text/plain": [
              "200"
            ]
          },
          "metadata": {},
          "execution_count": 7
        }
      ]
    },
    {
      "cell_type": "code",
      "metadata": {
        "id": "buJw91twIDq3"
      },
      "source": [
        "#properties, methods\n"
      ],
      "execution_count": null,
      "outputs": []
    },
    {
      "cell_type": "code",
      "metadata": {
        "colab": {
          "base_uri": "https://localhost:8080/",
          "height": 35
        },
        "id": "2vjhTvhuJiZ-",
        "outputId": "f60ca99e-4a08-45c6-a5d4-f4ce537b3efe"
      },
      "source": [
        "str(r1)"
      ],
      "execution_count": null,
      "outputs": [
        {
          "output_type": "execute_result",
          "data": {
            "application/vnd.google.colaboratory.intrinsic+json": {
              "type": "string"
            },
            "text/plain": [
              "'<__main__.Rectangle object at 0x7f3e08b57550>'"
            ]
          },
          "metadata": {},
          "execution_count": 9
        }
      ]
    },
    {
      "cell_type": "code",
      "metadata": {
        "id": "ZV580B3JJkrW"
      },
      "source": [
        "class Rectangle:\n",
        "  def __init__(self,width,height):\n",
        "    self.width = width\n",
        "    self.height = height\n",
        "  def area(self):\n",
        "    return self.width * self.height\n",
        "  def __str__(self):\n",
        "    return f\"Rectangle width: {self.width}\""
      ],
      "execution_count": null,
      "outputs": []
    },
    {
      "cell_type": "code",
      "metadata": {
        "id": "HK1lxwqSJ_U3"
      },
      "source": [
        "r1 = Rectangle(10,20)\n"
      ],
      "execution_count": null,
      "outputs": []
    },
    {
      "cell_type": "code",
      "metadata": {
        "id": "UiEnaVq9KBpH",
        "colab": {
          "base_uri": "https://localhost:8080/",
          "height": 35
        },
        "outputId": "4c96c77e-2e3c-4484-b90b-ebd19e7b5acf"
      },
      "source": [
        "str(r1)"
      ],
      "execution_count": null,
      "outputs": [
        {
          "output_type": "execute_result",
          "data": {
            "application/vnd.google.colaboratory.intrinsic+json": {
              "type": "string"
            },
            "text/plain": [
              "'Rectangle width: 10'"
            ]
          },
          "metadata": {},
          "execution_count": 12
        }
      ]
    },
    {
      "cell_type": "code",
      "metadata": {
        "id": "Z4sl4x02KDT-"
      },
      "source": [
        "def my_decorator(func):\n",
        "    def wrapper():\n",
        "        print(\"Something is happening before the function is called.\")\n",
        "        func()\n",
        "        print(\"Something is happening after the function is called.\")\n",
        "    return wrapper\n",
        "\n",
        "@my_decorator\n",
        "def say_whee():\n",
        "    print(\"Whee!\")\n",
        "\n",
        "# say_whee = my_decorator(say_whee)"
      ],
      "execution_count": null,
      "outputs": []
    },
    {
      "cell_type": "code",
      "metadata": {
        "colab": {
          "base_uri": "https://localhost:8080/"
        },
        "id": "64AvUeVyZLE0",
        "outputId": "0b038392-aa79-40e1-fd27-68e438b663df"
      },
      "source": [
        "say_whee()"
      ],
      "execution_count": null,
      "outputs": [
        {
          "output_type": "stream",
          "name": "stdout",
          "text": [
            "Something is happening before the function is called.\n",
            "Whee!\n",
            "Something is happening after the function is called.\n"
          ]
        }
      ]
    },
    {
      "cell_type": "code",
      "metadata": {
        "colab": {
          "base_uri": "https://localhost:8080/"
        },
        "id": "BoMfEUyOZNLr",
        "outputId": "dedeca9b-03ee-475f-e4df-656ce888e769"
      },
      "source": [
        "my_decorator(say_whee)()"
      ],
      "execution_count": null,
      "outputs": [
        {
          "output_type": "stream",
          "name": "stdout",
          "text": [
            "Something is happening before the function is called.\n",
            "Something is happening before the function is called.\n",
            "Whee!\n",
            "Something is happening after the function is called.\n",
            "Something is happening after the function is called.\n"
          ]
        }
      ]
    },
    {
      "cell_type": "code",
      "metadata": {
        "id": "_WvBGytwZiQq",
        "colab": {
          "base_uri": "https://localhost:8080/"
        },
        "outputId": "b8dca422-4ab6-416b-d669-64bd126b66a9"
      },
      "source": [
        "#args and kwargs\n",
        "\n",
        "def func_args(*args):\n",
        "  result = 0\n",
        "  for i in args:\n",
        "    result += i\n",
        "  print(result)\n",
        "func_args(3,5,7,8)"
      ],
      "execution_count": 3,
      "outputs": [
        {
          "output_type": "stream",
          "name": "stdout",
          "text": [
            "23\n"
          ]
        }
      ]
    },
    {
      "cell_type": "code",
      "metadata": {
        "colab": {
          "base_uri": "https://localhost:8080/"
        },
        "id": "Z5nG45HT_h_K",
        "outputId": "6624eca9-f7cc-4fe3-d8e2-c56d85fb034e"
      },
      "source": [
        "def func_kwargs(**kwargs):\n",
        "  result = 0\n",
        "  for i in kwargs.values():\n",
        "    result += i\n",
        "  print(result)\n",
        "dict1 = dict(a=2,b=5,c=8)\n",
        "print(dict1)\n",
        "print(type(dict1))\n",
        "func_kwargs(**dict1)"
      ],
      "execution_count": 11,
      "outputs": [
        {
          "output_type": "stream",
          "name": "stdout",
          "text": [
            "{'a': 2, 'b': 5, 'c': 8}\n",
            "<class 'dict'>\n",
            "15\n"
          ]
        }
      ]
    },
    {
      "cell_type": "code",
      "metadata": {
        "id": "fs9w_F1IANOD"
      },
      "source": [
        "class Circle:\n",
        "  def __init__(self,radius):\n",
        "    self._radius = None\n",
        "    self.radius = radius\n",
        "\n",
        "  @property\n",
        "  def radius(self):\n",
        "    return self._radius\n",
        "  \n",
        "  @radius.setter\n",
        "  def radius(self,radius):\n",
        "    if radius < 5:\n",
        "      raise ValueError(\"Radius less than 5\")\n",
        "    self._radius = radius\n",
        "    return 'Success'"
      ],
      "execution_count": 20,
      "outputs": []
    },
    {
      "cell_type": "code",
      "metadata": {
        "colab": {
          "base_uri": "https://localhost:8080/",
          "height": 306
        },
        "id": "9VL53fjLl-l8",
        "outputId": "51c9671d-5450-41ac-ed21-7d31f6e54ec6"
      },
      "source": [
        "a = Circle(2)"
      ],
      "execution_count": 21,
      "outputs": [
        {
          "output_type": "error",
          "ename": "ValueError",
          "evalue": "ignored",
          "traceback": [
            "\u001b[0;31m---------------------------------------------------------------------------\u001b[0m",
            "\u001b[0;31mValueError\u001b[0m                                Traceback (most recent call last)",
            "\u001b[0;32m<ipython-input-21-bba9182b1d1e>\u001b[0m in \u001b[0;36m<module>\u001b[0;34m()\u001b[0m\n\u001b[0;32m----> 1\u001b[0;31m \u001b[0ma\u001b[0m \u001b[0;34m=\u001b[0m \u001b[0mCircle\u001b[0m\u001b[0;34m(\u001b[0m\u001b[0;36m2\u001b[0m\u001b[0;34m)\u001b[0m\u001b[0;34m\u001b[0m\u001b[0;34m\u001b[0m\u001b[0m\n\u001b[0m",
            "\u001b[0;32m<ipython-input-20-f916287e6a6d>\u001b[0m in \u001b[0;36m__init__\u001b[0;34m(self, radius)\u001b[0m\n\u001b[1;32m      2\u001b[0m   \u001b[0;32mdef\u001b[0m \u001b[0m__init__\u001b[0m\u001b[0;34m(\u001b[0m\u001b[0mself\u001b[0m\u001b[0;34m,\u001b[0m\u001b[0mradius\u001b[0m\u001b[0;34m)\u001b[0m\u001b[0;34m:\u001b[0m\u001b[0;34m\u001b[0m\u001b[0;34m\u001b[0m\u001b[0m\n\u001b[1;32m      3\u001b[0m     \u001b[0mself\u001b[0m\u001b[0;34m.\u001b[0m\u001b[0m_radius\u001b[0m \u001b[0;34m=\u001b[0m \u001b[0;32mNone\u001b[0m\u001b[0;34m\u001b[0m\u001b[0;34m\u001b[0m\u001b[0m\n\u001b[0;32m----> 4\u001b[0;31m     \u001b[0mself\u001b[0m\u001b[0;34m.\u001b[0m\u001b[0mradius\u001b[0m \u001b[0;34m=\u001b[0m \u001b[0mradius\u001b[0m\u001b[0;34m\u001b[0m\u001b[0;34m\u001b[0m\u001b[0m\n\u001b[0m\u001b[1;32m      5\u001b[0m \u001b[0;34m\u001b[0m\u001b[0m\n\u001b[1;32m      6\u001b[0m   \u001b[0;34m@\u001b[0m\u001b[0mproperty\u001b[0m\u001b[0;34m\u001b[0m\u001b[0;34m\u001b[0m\u001b[0m\n",
            "\u001b[0;32m<ipython-input-20-f916287e6a6d>\u001b[0m in \u001b[0;36mradius\u001b[0;34m(self, radius)\u001b[0m\n\u001b[1;32m     11\u001b[0m   \u001b[0;32mdef\u001b[0m \u001b[0mradius\u001b[0m\u001b[0;34m(\u001b[0m\u001b[0mself\u001b[0m\u001b[0;34m,\u001b[0m\u001b[0mradius\u001b[0m\u001b[0;34m)\u001b[0m\u001b[0;34m:\u001b[0m\u001b[0;34m\u001b[0m\u001b[0;34m\u001b[0m\u001b[0m\n\u001b[1;32m     12\u001b[0m     \u001b[0;32mif\u001b[0m \u001b[0mradius\u001b[0m \u001b[0;34m<\u001b[0m \u001b[0;36m5\u001b[0m\u001b[0;34m:\u001b[0m\u001b[0;34m\u001b[0m\u001b[0;34m\u001b[0m\u001b[0m\n\u001b[0;32m---> 13\u001b[0;31m       \u001b[0;32mraise\u001b[0m \u001b[0mValueError\u001b[0m\u001b[0;34m(\u001b[0m\u001b[0;34m\"Radius less than 5\"\u001b[0m\u001b[0;34m)\u001b[0m\u001b[0;34m\u001b[0m\u001b[0;34m\u001b[0m\u001b[0m\n\u001b[0m\u001b[1;32m     14\u001b[0m     \u001b[0mself\u001b[0m\u001b[0;34m.\u001b[0m\u001b[0m_radius\u001b[0m \u001b[0;34m=\u001b[0m \u001b[0mradius\u001b[0m\u001b[0;34m\u001b[0m\u001b[0;34m\u001b[0m\u001b[0m\n\u001b[1;32m     15\u001b[0m     \u001b[0;32mreturn\u001b[0m \u001b[0;34m'Success'\u001b[0m\u001b[0;34m\u001b[0m\u001b[0;34m\u001b[0m\u001b[0m\n",
            "\u001b[0;31mValueError\u001b[0m: Radius less than 5"
          ]
        }
      ]
    },
    {
      "cell_type": "code",
      "metadata": {
        "id": "xh1CYGvpmBqZ"
      },
      "source": [
        "a.radius=3"
      ],
      "execution_count": 19,
      "outputs": []
    },
    {
      "cell_type": "code",
      "metadata": {
        "id": "7xmosCFr_Tt7"
      },
      "source": [
        ""
      ],
      "execution_count": null,
      "outputs": []
    }
  ]
}